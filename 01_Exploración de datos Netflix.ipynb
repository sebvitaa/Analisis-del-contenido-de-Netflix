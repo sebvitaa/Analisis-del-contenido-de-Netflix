{
 "cells": [
  {
   "cell_type": "markdown",
   "id": "e3d83ca0",
   "metadata": {},
   "source": [
    "# Exploración del dataset original.\n",
    "\n",
    "#### 1. Librerías necesarias"
   ]
  },
  {
   "cell_type": "code",
   "execution_count": 23,
   "id": "6bbef7ef",
   "metadata": {},
   "outputs": [],
   "source": [
    "import numpy as np\n",
    "import pandas as pd"
   ]
  },
  {
   "cell_type": "markdown",
   "id": "5507bbe5",
   "metadata": {},
   "source": [
    "#### 2. Apertura del dataset y selección de columnas necesarias."
   ]
  },
  {
   "cell_type": "code",
   "execution_count": 24,
   "id": "87a081eb",
   "metadata": {},
   "outputs": [],
   "source": [
    "netflix = pd.read_csv('netflix_titles.csv', encoding='latin1')\n",
    "netflix = netflix[netflix.columns[:11]]\n",
    "netflix.drop(['show_id', 'title', 'director', 'cast', 'release_year'], axis='columns', inplace=True)"
   ]
  },
  {
   "cell_type": "markdown",
   "id": "168548dd",
   "metadata": {},
   "source": [
    "#### 3. Limpieza de datos en la columna \"country\", y eliminar los na restantes"
   ]
  },
  {
   "cell_type": "code",
   "execution_count": 25,
   "id": "2092f593",
   "metadata": {},
   "outputs": [],
   "source": [
    "netflix['country'].fillna('Unknown', inplace=True)\n",
    "for i in range(len(netflix['country'])):\n",
    "    countries = netflix['country'][i].split(',')\n",
    "    if len(countries) > 1:\n",
    "        netflix['country'][i] = 'Varios'\n",
    "    else:\n",
    "        netflix['country'][i] = countries[0]\n",
    "netflix.dropna(inplace=True)"
   ]
  },
  {
   "cell_type": "markdown",
   "id": "dca69c9e",
   "metadata": {},
   "source": [
    "#### 4. cambiar la fecha del formato original (texto de la forma \"january 01, 2020\") a formato \"datetime64[ns]\""
   ]
  },
  {
   "cell_type": "code",
   "execution_count": 26,
   "id": "417f20b2",
   "metadata": {},
   "outputs": [],
   "source": [
    "netflix['date_added'] = netflix['date_added'].astype('datetime64[ns]')\n",
    "netflix = netflix.replace({'United States': 'United States of America'})"
   ]
  },
  {
   "cell_type": "markdown",
   "id": "940c1f76",
   "metadata": {},
   "source": [
    "#### 5. Como la descripción del dataset es que son las peliculas hasta el 2021, las 2 películas que aparecen como subidas el 2024 serán consideradas un error y se eliminarán del dataset"
   ]
  },
  {
   "cell_type": "code",
   "execution_count": 27,
   "id": "d57dd6e3",
   "metadata": {},
   "outputs": [],
   "source": [
    "netflix.drop(netflix[netflix['date_added'] == '2024-04-05'].index, inplace=True)\n",
    "netflix['date_added'].sort_values()\n",
    "\n",
    "#Guardar en un nuevo dataset.\n",
    "netflix.to_csv('Netflix.csv', encoding = 'UTF-8', index=False)"
   ]
  }
 ],
 "metadata": {
  "kernelspec": {
   "display_name": "Python 3 (ipykernel)",
   "language": "python",
   "name": "python3"
  },
  "language_info": {
   "codemirror_mode": {
    "name": "ipython",
    "version": 3
   },
   "file_extension": ".py",
   "mimetype": "text/x-python",
   "name": "python",
   "nbconvert_exporter": "python",
   "pygments_lexer": "ipython3",
   "version": "3.9.12"
  }
 },
 "nbformat": 4,
 "nbformat_minor": 5
}
